{
 "cells": [
  {
   "cell_type": "markdown",
   "metadata": {},
   "source": [
    "You have 3 tables, one called PROFESSOR, one called COURSE, one called SCHEDULE.\n",
    "<br><br>\n",
    "**PROFESSOR** table has columns:\n",
    "- professor_id (unique int)\n",
    "- professor_department (int)\n",
    "- professor_name (string)\n",
    "\n",
    "**COURSE** table has columns:\n",
    "- course_id (unique int)\n",
    "- course_department (int)\n",
    "- course_name (string)\n",
    "\n",
    "**SCHEDULE** table has columns:\n",
    "- professor_id\n",
    "- course_id\n",
    "- semester (\"FALL\", \"SPRING\", or \"SUMMER\")\n",
    "- year (int)\n",
    "\n",
    "Write the query to return unique rows that have two columns, professor_name and course_name, but only where the professor is teaching a course that isn't in his/her department."
   ]
  },
  {
   "cell_type": "code",
   "execution_count": 2,
   "metadata": {},
   "outputs": [],
   "source": [
    "import numpy as np\n",
    "import pandas as pd\n",
    "import time\n",
    "from faker import Faker\n",
    "fake = Faker()"
   ]
  },
  {
   "cell_type": "markdown",
   "metadata": {},
   "source": [
    "The [faker](https://github.com/joke2k/faker?tab=readme-ov-file) library offers a bunch of built-in data types that you can generate."
   ]
  },
  {
   "cell_type": "markdown",
   "metadata": {},
   "source": [
    "### Generate professor table"
   ]
  },
  {
   "cell_type": "code",
   "execution_count": 3,
   "metadata": {},
   "outputs": [],
   "source": [
    "n_prof = 30\n",
    "n_dep = 5\n",
    "n_course = 25 \n",
    "seed = 0\n",
    "\n",
    "professor_name = set([])\n",
    "while len(professor_name) < n_prof:\n",
    "    professor_name.add(fake.name())\n",
    "\n",
    "np.random.seed(seed)\n",
    "professor_name = list(professor_name)\n",
    "professor = pd.DataFrame(\n",
    "    enumerate(professor_name), columns=[\"professor_id\", \"professor_name\"])\n",
    "professor[\"professor_department\"] = np.random.choice(range(n_dep), size=n_prof)"
   ]
  },
  {
   "cell_type": "markdown",
   "metadata": {},
   "source": [
    "### Generate course table"
   ]
  },
  {
   "cell_type": "code",
   "execution_count": 4,
   "metadata": {},
   "outputs": [],
   "source": [
    "course = pd.DataFrame(\n",
    "    ((i, \"Course_{}\".format(i)) for i in range(n_course)),\n",
    "    columns=[\"course_id\", \"course_name\"])\n",
    "\n",
    "course[\"course_department\"] = np.random.choice(range(n_dep), n_course)"
   ]
  },
  {
   "cell_type": "markdown",
   "metadata": {},
   "source": [
    "### Generate schedule table"
   ]
  },
  {
   "cell_type": "code",
   "execution_count": 5,
   "metadata": {},
   "outputs": [],
   "source": [
    "n_year = 5\n",
    "start_year = 2015\n",
    "most_courses = n_course - 5\n",
    "least_courses = most_courses - 3\n",
    "num_courses_semester = np.random.uniform(least_courses, most_courses, n_year*3).astype(int)\n",
    "\n",
    "schedule_lst = []\n",
    "for i in range(n_year):\n",
    "    year = start_year + i\n",
    "    for semester in [\"SPRING\", \"SUMMER\", \"FALL\"]:\n",
    "        size = num_courses_semester[i]\n",
    "        tmp = pd.DataFrame(\n",
    "            np.random.choice(course[\"course_id\"], size, replace=False), \n",
    "            columns=[\"course_id\"])\n",
    "        tmp[\"year\"] = year\n",
    "        tmp[\"semester\"] = semester\n",
    "        tmp[\"professor_id\"] = np.random.choice(professor[\"professor_id\"], size, replace=False)\n",
    "        schedule_lst.append(tmp)\n",
    "    \n",
    "schedule = pd.concat(schedule_lst)"
   ]
  },
  {
   "cell_type": "code",
   "execution_count": 6,
   "metadata": {},
   "outputs": [],
   "source": [
    "professor.to_csv(\"./csv/professor.csv\", index=False)\n",
    "course.to_csv(\"./csv/course.csv\", index=False)\n",
    "schedule.to_csv(\"./csv/schedule.csv\", index=False)"
   ]
  },
  {
   "cell_type": "code",
   "execution_count": null,
   "metadata": {},
   "outputs": [],
   "source": []
  }
 ],
 "metadata": {
  "kernelspec": {
   "display_name": "Python 3 (ipykernel)",
   "language": "python",
   "name": "python3"
  },
  "language_info": {
   "codemirror_mode": {
    "name": "ipython",
    "version": 3
   },
   "file_extension": ".py",
   "mimetype": "text/x-python",
   "name": "python",
   "nbconvert_exporter": "python",
   "pygments_lexer": "ipython3",
   "version": "3.9.6"
  }
 },
 "nbformat": 4,
 "nbformat_minor": 4
}
