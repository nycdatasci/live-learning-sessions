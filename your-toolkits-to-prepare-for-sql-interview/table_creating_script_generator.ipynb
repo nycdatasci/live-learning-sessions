{
 "cells": [
  {
   "cell_type": "markdown",
   "metadata": {},
   "source": [
    "### Utilities to Upload a CSV Dataset to SQL\n",
    "\n",
    "To use the Python function we provided here, you need to have\n",
    "- a csv file with the data you want to upload. Here we show you with an exampe, `./WHO-COVID-19-global-data.csv`.\n",
    "- Decide the database you want to upload the data to, and the name of the table you want to host them. You don't need to worry if the database and table exist, the function we provide here we take care of no matter you have them or not.\n",
    "\n",
    "When you use this tool for your own data, change the cell below. A good way to organize is to save the data for different interviews in different databases to prevent mixing data."
   ]
  },
  {
   "cell_type": "code",
   "execution_count": 4,
   "metadata": {},
   "outputs": [],
   "source": [
    "csv_file = \"./WHO-COVID-19-global-data.csv\"\n",
    "table = \"who_data\"\n",
    "database = \"covid\""
   ]
  },
  {
   "cell_type": "markdown",
   "metadata": {},
   "source": [
    "**Below we first load the csv file to a pandas data frame.** Notice that SQL doesn't allow spaces in column names so the `clear_col` function replaces spaces with underscores. If you find any other problem in your column names, modify this function clean them."
   ]
  },
  {
   "cell_type": "code",
   "execution_count": 5,
   "metadata": {},
   "outputs": [],
   "source": [
    "import numpy as np\n",
    "import pandas as pd\n",
    "\n",
    "def clear_cols(s):\n",
    "    return s.strip().replace(\" \", \"_\")"
   ]
  },
  {
   "cell_type": "markdown",
   "metadata": {},
   "source": [
    "Below we load the data and make quickly check if the column names are legal."
   ]
  },
  {
   "cell_type": "code",
   "execution_count": 6,
   "metadata": {},
   "outputs": [
    {
     "data": {
      "text/html": [
       "<div>\n",
       "<style scoped>\n",
       "    .dataframe tbody tr th:only-of-type {\n",
       "        vertical-align: middle;\n",
       "    }\n",
       "\n",
       "    .dataframe tbody tr th {\n",
       "        vertical-align: top;\n",
       "    }\n",
       "\n",
       "    .dataframe thead th {\n",
       "        text-align: right;\n",
       "    }\n",
       "</style>\n",
       "<table border=\"1\" class=\"dataframe\">\n",
       "  <thead>\n",
       "    <tr style=\"text-align: right;\">\n",
       "      <th></th>\n",
       "      <th>Date_reported</th>\n",
       "      <th>Country_code</th>\n",
       "      <th>Country</th>\n",
       "      <th>WHO_region</th>\n",
       "      <th>New_cases</th>\n",
       "      <th>Cumulative_cases</th>\n",
       "      <th>New_deaths</th>\n",
       "      <th>Cumulative_deaths</th>\n",
       "    </tr>\n",
       "  </thead>\n",
       "  <tbody>\n",
       "    <tr>\n",
       "      <th>0</th>\n",
       "      <td>2020-01-05</td>\n",
       "      <td>AF</td>\n",
       "      <td>Afghanistan</td>\n",
       "      <td>EMRO</td>\n",
       "      <td>0</td>\n",
       "      <td>0</td>\n",
       "      <td>0</td>\n",
       "      <td>0</td>\n",
       "    </tr>\n",
       "    <tr>\n",
       "      <th>1</th>\n",
       "      <td>2020-01-12</td>\n",
       "      <td>AF</td>\n",
       "      <td>Afghanistan</td>\n",
       "      <td>EMRO</td>\n",
       "      <td>0</td>\n",
       "      <td>0</td>\n",
       "      <td>0</td>\n",
       "      <td>0</td>\n",
       "    </tr>\n",
       "    <tr>\n",
       "      <th>2</th>\n",
       "      <td>2020-01-19</td>\n",
       "      <td>AF</td>\n",
       "      <td>Afghanistan</td>\n",
       "      <td>EMRO</td>\n",
       "      <td>0</td>\n",
       "      <td>0</td>\n",
       "      <td>0</td>\n",
       "      <td>0</td>\n",
       "    </tr>\n",
       "    <tr>\n",
       "      <th>3</th>\n",
       "      <td>2020-01-26</td>\n",
       "      <td>AF</td>\n",
       "      <td>Afghanistan</td>\n",
       "      <td>EMRO</td>\n",
       "      <td>0</td>\n",
       "      <td>0</td>\n",
       "      <td>0</td>\n",
       "      <td>0</td>\n",
       "    </tr>\n",
       "    <tr>\n",
       "      <th>4</th>\n",
       "      <td>2020-02-02</td>\n",
       "      <td>AF</td>\n",
       "      <td>Afghanistan</td>\n",
       "      <td>EMRO</td>\n",
       "      <td>0</td>\n",
       "      <td>0</td>\n",
       "      <td>0</td>\n",
       "      <td>0</td>\n",
       "    </tr>\n",
       "  </tbody>\n",
       "</table>\n",
       "</div>"
      ],
      "text/plain": [
       "  Date_reported Country_code      Country WHO_region  New_cases  \\\n",
       "0    2020-01-05           AF  Afghanistan       EMRO          0   \n",
       "1    2020-01-12           AF  Afghanistan       EMRO          0   \n",
       "2    2020-01-19           AF  Afghanistan       EMRO          0   \n",
       "3    2020-01-26           AF  Afghanistan       EMRO          0   \n",
       "4    2020-02-02           AF  Afghanistan       EMRO          0   \n",
       "\n",
       "   Cumulative_cases  New_deaths  Cumulative_deaths  \n",
       "0                 0           0                  0  \n",
       "1                 0           0                  0  \n",
       "2                 0           0                  0  \n",
       "3                 0           0                  0  \n",
       "4                 0           0                  0  "
      ]
     },
     "execution_count": 6,
     "metadata": {},
     "output_type": "execute_result"
    }
   ],
   "source": [
    "df = pd.read_csv(csv_file).rename(columns=clear_cols)\n",
    "df.head()"
   ]
  },
  {
   "cell_type": "markdown",
   "metadata": {},
   "source": [
    "Below we generate the command that checks if the database you are to use exists. If not, it will create one. Check the SQL command it outputs below."
   ]
  },
  {
   "cell_type": "code",
   "execution_count": 7,
   "metadata": {},
   "outputs": [
    {
     "name": "stdout",
     "output_type": "stream",
     "text": [
      "CREATE DATABASE IF NOT EXISTS covid;\n",
      "USE covid;\n"
     ]
    }
   ],
   "source": [
    "def go_db(db):\n",
    "    cmd =  \"\\n\".join([\n",
    "        \"CREATE DATABASE IF NOT EXISTS {db};\", \n",
    "        \"USE {db};\"])\n",
    "    cmd = cmd.format(db=db)\n",
    "    \n",
    "    return cmd \n",
    "\n",
    "print(go_db(database))"
   ]
  },
  {
   "cell_type": "markdown",
   "metadata": {},
   "source": [
    "Below we generate the command that checks if the table you are to use exists. If not, it will create one. We create a very simple, possibly oversimplified schema. Keep in mind that we build the table for practicing only. Check the SQL command it outputs below.\n"
   ]
  },
  {
   "cell_type": "code",
   "execution_count": 8,
   "metadata": {},
   "outputs": [
    {
     "name": "stdout",
     "output_type": "stream",
     "text": [
      "CREATE TABLE IF NOT EXISTS who_data (\n",
      "Date_reported        TEXT,\n",
      "Country_code         TEXT,\n",
      "Country              TEXT,\n",
      "WHO_region           TEXT,\n",
      "New_cases             bigint(20) DEFAULT NULL,\n",
      "Cumulative_cases      bigint(20) DEFAULT NULL,\n",
      "New_deaths            bigint(20) DEFAULT NULL,\n",
      "Cumulative_deaths     bigint(20) DEFAULT NULL\n",
      ");\n"
     ]
    }
   ],
   "source": [
    "def create_schema(df):\n",
    "    schema = str(df.dtypes).replace(\n",
    "        \"dtype: object\", \"\"\n",
    "    ).replace(\n",
    "        \"object\", \"TEXT\"\n",
    "    ).replace(\n",
    "        \"int64\", \"bigint(20) DEFAULT NULL\"\n",
    "    ).replace(\n",
    "        \"float64\", \"double DEFAULT NULL\"\n",
    "    )\n",
    "    \n",
    "    schema = \",\\n\".join([\n",
    "        s.strip() for s in schema.split(\"\\n\") if s.strip()])\n",
    "    \n",
    "    return schema\n",
    "\n",
    "def create_table(tname, df):\n",
    "    schema = create_schema(df)\n",
    "    \n",
    "    cmd = \"\"\"\n",
    "    CREATE TABLE IF NOT EXISTS {tname} (\\n{schema}\\n);\n",
    "    \"\"\".format(tname=tname, schema=schema).strip()\n",
    "    \n",
    "    return cmd\n",
    "\n",
    "print(create_table(table, df))"
   ]
  },
  {
   "cell_type": "markdown",
   "metadata": {},
   "source": [
    "Below we generate the command that uploads data. People probably remember `LOAD DATA LOCAL INFIL` command from our SQL class. But that commands requires a few setting. Inserting line by line turns out to be an easier way to load data. \n",
    "\n",
    "When you use the code below you might find uploading quite easy but it's actually not. We need to generate as a very long sequence of code and take care of many details of it. Check out the code below and the first 300 characters of the generated command below:"
   ]
  },
  {
   "cell_type": "code",
   "execution_count": 9,
   "metadata": {},
   "outputs": [
    {
     "name": "stdout",
     "output_type": "stream",
     "text": [
      "INSERT INTO who_data\n",
      "VALUES\n",
      "(\"2020-01-05\",\"AF\",\"Afghanistan\",\"EMRO\",0,0,0,0),\n",
      "(\"2020-01-12\",\"AF\",\"Afghanistan\",\"EMRO\",0,0,0,0),\n",
      "(\"2020-01-19\",\"AF\",\"Afghanistan\",\"EMRO\",0,0,0,0),\n",
      "(\"2020-01-26\",\"AF\",\"Afghanistan\",\"EMRO\",0,0,0,0),\n",
      "(\"2020-02-02\",\"AF\",\"Afghanistan\",\"EMRO\",0,0,0,0),\n",
      "(\"2020-02-09\",\"AF\",\"Af\n"
     ]
    }
   ],
   "source": [
    "def clean_vals(x):\n",
    "    if isinstance(x, str):\n",
    "        s = x.replace(\"\\\"\", \"\\\\\\\"\").replace(\"\\'\", \"\\\\\\'\")\n",
    "        s = '\"' + s + '\"'\n",
    "    elif np.isnan(x):\n",
    "            s = \"NULL\"\n",
    "    else:\n",
    "        s = str(x)\n",
    "        \n",
    "    return s\n",
    "\n",
    "def gen_values(df):\n",
    "    values = []\n",
    "    for row in df.values:\n",
    "        values.append(\n",
    "            \"(\" + \",\".join([clean_vals(x) for x in row]) + \")\")\n",
    "        \n",
    "    return  \",\\n\".join(values)\n",
    "\n",
    "def gen_insert(table, df):\n",
    "    cmd = \"INSERT INTO {tname}\\nVALUES\\n{vals}\".format(\n",
    "        tname=table, vals = gen_values(df))\n",
    "    \n",
    "    return cmd\n",
    "\n",
    "print(gen_insert(table, df)[:300])"
   ]
  },
  {
   "cell_type": "markdown",
   "metadata": {},
   "source": [
    "We then save the three steps into a .sql script."
   ]
  },
  {
   "cell_type": "code",
   "execution_count": 10,
   "metadata": {},
   "outputs": [],
   "source": [
    "path = \"./myscript.sql\"\n",
    "script = \"\\n\".join([go_db(database), create_table(table, df), gen_insert(table, df)])\n",
    "with open(path, \"w\") as f:\n",
    "    f.write(script)"
   ]
  },
  {
   "cell_type": "code",
   "execution_count": null,
   "metadata": {},
   "outputs": [],
   "source": []
  }
 ],
 "metadata": {
  "kernelspec": {
   "display_name": "Python 3 (ipykernel)",
   "language": "python",
   "name": "python3"
  },
  "language_info": {
   "codemirror_mode": {
    "name": "ipython",
    "version": 3
   },
   "file_extension": ".py",
   "mimetype": "text/x-python",
   "name": "python",
   "nbconvert_exporter": "python",
   "pygments_lexer": "ipython3",
   "version": "3.9.6"
  }
 },
 "nbformat": 4,
 "nbformat_minor": 4
}
