{
 "cells": [
  {
   "cell_type": "markdown",
   "metadata": {},
   "source": [
    "## How Strong Is Your Machine Learning Model?\n",
    "**Likelihood function, the supervisor of models from logistic regression to deep learning**\n",
    "\n",
    "----\n",
    "\n",
    "\n",
    "AI becomes a hot topic in the recent years. A very important kind of task AI can do is to predict. A prediction can't be 100% right all the time, so one needs a good way to monitor the performance of your predicting model at every stage. \n",
    "\n",
    "A **likelihood function** is a widely accepted concept for such measurement, from a simple linear model such as logistic regression to a very sophisticated neural network.\n",
    "\n",
    "\n",
    "In this session, we briefly discuss the likelihood function in logistic regression, which many might be familiar with already. But we are going to emphasize the idea that a model can be taken for a family of parameterized distributions. Then we will generalized  this idea to a simple linear regression to introduce the likelihood approach to train a model."
   ]
  },
  {
   "cell_type": "code",
   "execution_count": null,
   "metadata": {},
   "outputs": [],
   "source": [
    "from content import *"
   ]
  },
  {
   "cell_type": "code",
   "execution_count": null,
   "metadata": {},
   "outputs": [],
   "source": [
    "pd.DataFrame({\"rating\":X1, \"return\":[\"yes\" if i==1 else \"no\" for i in y1]}).iloc[[0,1, 8,13,17,23,29]]"
   ]
  },
  {
   "cell_type": "markdown",
   "metadata": {},
   "source": [
    "From the table we see that customers with high rating are more likely to return. We can also visualize what we saw in the table. All we need to do is the encode \"yes\" and \"no\" to 1 and 0, respectively, and sketch a scatter plot."
   ]
  },
  {
   "cell_type": "code",
   "execution_count": null,
   "metadata": {},
   "outputs": [],
   "source": [
    "fig_data.show()"
   ]
  }
 ],
 "metadata": {
  "kernelspec": {
   "display_name": "Python 3",
   "language": "python",
   "name": "python3"
  },
  "language_info": {
   "codemirror_mode": {
    "name": "ipython",
    "version": 3
   },
   "file_extension": ".py",
   "mimetype": "text/x-python",
   "name": "python",
   "nbconvert_exporter": "python",
   "pygments_lexer": "ipython3",
   "version": "3.7.3"
  }
 },
 "nbformat": 4,
 "nbformat_minor": 4
}
