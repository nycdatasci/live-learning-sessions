{
 "cells": [
  {
   "cell_type": "markdown",
   "metadata": {},
   "source": [
    "### Log Likelihood\n",
    "\n",
    "The formula, $\\prod_{i=1}^n p(Y=y_i| X=x_i)$, can cause some numerical problems.|"
   ]
  },
  {
   "cell_type": "code",
   "execution_count": 1,
   "metadata": {},
   "outputs": [
    {
     "data": {
      "text/plain": [
       "array([0.28602167, 0.39690572, 0.23846949, 0.37301071, 0.37375761,\n",
       "       0.39823893, 0.36074686, 0.17279374, 0.3294518 , 0.34758469,\n",
       "       0.38826747, 0.07316329, 0.36793289, 0.3963071 , 0.39884362,\n",
       "       0.37608617, 0.05158348, 0.398127  , 0.32090375, 0.145256  ,\n",
       "       0.34439954, 0.30039604, 0.32606016, 0.27546995, 0.37347896,\n",
       "       0.39749959, 0.22262972, 0.11036551, 0.01220795, 0.3978886 ,\n",
       "       0.30919705, 0.05245958, 0.39322119, 0.39828023, 0.27930695,\n",
       "       0.17850745, 0.3706497 , 0.15741261, 0.15224633, 0.18520356,\n",
       "       0.36197176, 0.37226588, 0.36779076, 0.3356222 , 0.38888868,\n",
       "       0.14378649, 0.09152551, 0.22673978, 0.36785364, 0.39147518])"
      ]
     },
     "execution_count": 1,
     "metadata": {},
     "output_type": "execute_result"
    }
   ],
   "source": [
    "from content import *\n",
    "from scipy.stats import norm\n",
    "\n",
    "slope2 = 2\n",
    "intercept2 = 1\n",
    "\n",
    "yhat = slope2*X2 + intercept2\n",
    "individual = norm(yhat).pdf(y2)\n",
    "individual"
   ]
  },
  {
   "cell_type": "markdown",
   "metadata": {},
   "source": [
    "The product would be extremely small:"
   ]
  },
  {
   "cell_type": "code",
   "execution_count": 2,
   "metadata": {},
   "outputs": [
    {
     "data": {
      "text/plain": [
       "6.08500134057476e-31"
      ]
     },
     "execution_count": 2,
     "metadata": {},
     "output_type": "execute_result"
    }
   ],
   "source": [
    "np.product(individual)"
   ]
  },
  {
   "cell_type": "markdown",
   "metadata": {},
   "source": [
    "A good observation is that maximizing a function or maximizing its log transformation are equivalent. And what's good about the log transformed version is:\n",
    "\n",
    "$$ log \\big( \\prod_{i=1}^n p(Y=y_i| X=x_i) \\big) = \\sum_{i=1}^n log \\big( p(Y=y_i| X=x_i) \\big) $$\n",
    "\n",
    "So the value would be in a range that is much easier to handle:"
   ]
  },
  {
   "cell_type": "code",
   "execution_count": 3,
   "metadata": {},
   "outputs": [
    {
     "data": {
      "text/plain": [
       "array([-1.25168769, -0.9240565 , -1.43351392, -0.98614814, -0.98414779,\n",
       "       -0.92070314, -1.01957879, -1.75565666, -1.11032523, -1.05674693,\n",
       "       -0.94606083, -2.61506154, -0.99985472, -0.92556587, -0.91918588,\n",
       "       -0.977937  , -2.96455388, -0.92098424, -1.13661405, -1.92925756,\n",
       "       -1.06595285, -1.20265353, -1.12067338, -1.28927673, -0.9848936 ,\n",
       "       -0.92256137, -1.50224535, -2.20395758, -4.40566779, -0.92158322,\n",
       "       -1.17377651, -2.94771223, -0.93338301, -0.92059942, -1.27544392,\n",
       "       -1.72312492, -0.99249788, -1.84888482, -1.88225545, -1.68629975,\n",
       "       -1.01618908, -0.98814694, -1.00024109, -1.09176917, -0.94446216,\n",
       "       -1.93942578, -2.39113752, -1.48395226, -1.00007015, -0.93783315])"
      ]
     },
     "execution_count": 3,
     "metadata": {},
     "output_type": "execute_result"
    }
   ],
   "source": [
    "np.log(individual)"
   ]
  },
  {
   "cell_type": "code",
   "execution_count": 4,
   "metadata": {},
   "outputs": [
    {
     "data": {
      "text/plain": [
       "-69.57431093606786"
      ]
     },
     "execution_count": 4,
     "metadata": {},
     "output_type": "execute_result"
    }
   ],
   "source": [
    "np.sum(np.log(individual))"
   ]
  }
 ],
 "metadata": {
  "kernelspec": {
   "display_name": "Python 3",
   "language": "python",
   "name": "python3"
  },
  "language_info": {
   "codemirror_mode": {
    "name": "ipython",
    "version": 3
   },
   "file_extension": ".py",
   "mimetype": "text/x-python",
   "name": "python",
   "nbconvert_exporter": "python",
   "pygments_lexer": "ipython3",
   "version": "3.7.3"
  }
 },
 "nbformat": 4,
 "nbformat_minor": 4
}
