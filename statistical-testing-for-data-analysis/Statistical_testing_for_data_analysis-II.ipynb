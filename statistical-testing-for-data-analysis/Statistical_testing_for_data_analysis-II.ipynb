{
 "cells": [
  {
   "cell_type": "markdown",
   "id": "fd36f180",
   "metadata": {},
   "source": [
    "# Statistical testing for data analysis: a practical guide\n"
   ]
  },
  {
   "cell_type": "markdown",
   "id": "3e1ba678",
   "metadata": {},
   "source": [
    "<p><a name=\"sections\"></a></p>\n",
    "\n",
    "\n",
    "# Sections\n",
    "\n",
    "- <a href=\"#goal\">Goal</a>\n",
    "- <a href=\"#cat\">Categorical vs categorical variables</a>\n",
    "    - <a href=\"#chi\">Chi-square test</a>\n",
    "- <a href=\"#cont\">Continous vs continous variables</a>\n",
    "    - <a href=\"#pear\">Pearson's correlation</a>\n",
    "    - <a href=\"#spear\">Spearman's correlation</a>"
   ]
  },
  {
   "cell_type": "markdown",
   "id": "d90bd259",
   "metadata": {},
   "source": [
    "Import libraries"
   ]
  },
  {
   "cell_type": "code",
   "execution_count": null,
   "id": "47d7f6ff",
   "metadata": {},
   "outputs": [],
   "source": [
    "import numpy as np\n",
    "import pandas as pd\n",
    "import seaborn as sns\n",
    "import matplotlib.pyplot as plt\n",
    "from statsmodels.graphics.gofplots import qqplot\n",
    "import scipy.stats as ss\n",
    "from statsmodels.sandbox.stats.multicomp import multipletests \n",
    "from itertools import combinations \n",
    "\n",
    "sns.set_theme(style = 'ticks')"
   ]
  },
  {
   "cell_type": "markdown",
   "id": "bafe7484",
   "metadata": {},
   "source": [
    "<p><a name=\"goal\"></a></p>\n",
    "\n",
    "## Goal\n",
    "#### Describe how the characteristics of each patient (e.g., age, sex, and cholesterol levels) affect the metrics of heart function.\n",
    "\n",
    "\n",
    "Luckily you have access to a Heart Database to do data analysis. Below we describe features included in such database:\n",
    "\n",
    "\n",
    "- age: Age of the patient\n",
    "\n",
    "- sex: Sex of the patient\n",
    "\n",
    "- ex_induced_angina: exercise induced angina (1 = yes; 0 = no)\n",
    "\n",
    "- major_vessels: number of major vessels colored by fluoroscopy (0-3)\n",
    "\n",
    "- chestpain: Chest Pain type chest pain type\n",
    "        Value 1: typical angina\n",
    "        Value 2: atypical angina\n",
    "        Value 3: non-anginal pain\n",
    "        Value 4: asymptomatic\n",
    "- blood_pressure: resting blood pressure (in mm Hg)\n",
    "\n",
    "- cholesterol: cholesterol in mg/dl fetched via BMI sensor\n",
    "\n",
    "- blood_sugar: (fasting blood sugar > 120 mg/dl) (1 = true; 0 = false)\n",
    "\n",
    "- electrcg_results: resting electrocardiographic results\n",
    "        Value 0: normal\n",
    "        Value 1: having ST-T wave abnormality (T wave inversions and/or ST elevation or depression of > 0.05 mV)\n",
    "        Value 2: showing probable or definite left ventricular hypertrophy by Estes' criteria\n",
    "- max_heart_rate: maximum heart rate achieved\n",
    "- oldpeak: ST depression induced by exercise relative to rest\n",
    "\n",
    "- chance_heartattack:   0= less chance of heart attack 1= more chance of heart attack\n",
    "\n",
    "[Source](https://www.kaggle.com/rashikrahmanpritom/heart-attack-analysis-prediction-dataset)"
   ]
  },
  {
   "cell_type": "code",
   "execution_count": null,
   "id": "e9c71763",
   "metadata": {},
   "outputs": [],
   "source": [
    "df = pd.read_csv('https://nycdsaslides.s3.amazonaws.com/LLS/heart.csv',\n",
    "                 names = ['age','sex','chestpain', 'blood_pressure',\\\n",
    "                          'cholesterol','blood_sugar','electrcg_results',\\\n",
    "                          'max_heart_rate','ex_induced_angina','oldpeak',\\\n",
    "                          'slp','major_vessels','thall','chance_heartattack'], header = 0)"
   ]
  },
  {
   "cell_type": "markdown",
   "id": "04e5934b",
   "metadata": {},
   "source": [
    "Based on medical evidence, the likelihood of having a heart attack increases after age 45. So let's make a new categorical feature to account for two age groups:"
   ]
  },
  {
   "cell_type": "code",
   "execution_count": null,
   "id": "d20c6d3d",
   "metadata": {},
   "outputs": [],
   "source": [
    "df.loc[(df['age'] <= 45), 'age_group'] = 'under45'\n",
    "df.loc[(df['age'] > 45), 'age_group'] = 'over45'"
   ]
  },
  {
   "cell_type": "code",
   "execution_count": null,
   "id": "dad99f5b",
   "metadata": {},
   "outputs": [],
   "source": [
    "df.head()"
   ]
  },
  {
   "cell_type": "markdown",
   "id": "2c24dc32",
   "metadata": {},
   "source": [
    "<p><a name=\"cat\"></a></p>\n",
    "\n",
    "## 2. Categorical vs categorical variables\n",
    "\n",
    "**Question 1** : how does the age group affect the insidence of exercise induced angina?\n",
    "\n",
    "First, we should present the data in a simple cross tabulation "
   ]
  },
  {
   "cell_type": "code",
   "execution_count": null,
   "id": "5b4e71b7",
   "metadata": {},
   "outputs": [],
   "source": [
    "table  = \n",
    "table.columns = ['yes','no']\n",
    "table"
   ]
  },
  {
   "cell_type": "markdown",
   "id": "c5a35ace",
   "metadata": {},
   "source": [
    "<p><a name=\"chi\"></a></p>\n",
    "\n",
    "## Chi square test\n",
    "\n",
    "This is a [test](https://www.statisticshowto.com/probability-and-statistics/chi-square/) for independence that compares two variables in a contingency table to see if they are related. In other words, it tests whether distributions of categorical variables differ from each another.\n",
    "\n",
    "-   $H_0:$ The proportion of patients who have exercise-induced angina is independent of the age group\n",
    "-   $H_1:$ The proportion of patients who have exercise-induced angina depends on the age group\n",
    "\n",
    "\n",
    "$$\\chi^2 = \\sum \\frac {(O - E)^2}{E}$$\n",
    "\n",
    "*O* observed and *E* expected frequencies"
   ]
  },
  {
   "cell_type": "markdown",
   "id": "0e637813",
   "metadata": {},
   "source": [
    "The [Yate's correction](https://en.wikipedia.org/wiki/Yates%27s_correction_for_continuity#:~:text=To%20reduce%20the%20error%20in,2%20%C3%97%202%20contingency%20table.) is used when at least one cell of the table has an expected count smaller than 5"
   ]
  },
  {
   "cell_type": "markdown",
   "id": "286d20e0",
   "metadata": {},
   "source": [
    "| Observed | Yes | No | Total |  |  |  |  |  |  |  |  |  |  |  |  | Expected | Yes    | No    | Total |\n",
    "|----------|-----|----|-------|--|--|--|--|--|--|--|--|--|--|--|--|----------|--------|-------|-------|\n",
    "| over45   | 155 | 84 | 239   |  |  |  |  |  |  |  |  |  |  |  |  | over45   | 160.91 | 78.09 | 239   |\n",
    "| under45  | 49  | 15 | 64    |  |  |  |  |  |  |  |  |  |  |  |  | under45  | 43.09  | 20.91 | 64    |\n",
    "| **Total**   | 204 | 99 | 303   |  |  |  |  |  |  |  |  |  |  |  |  | **Total**   | 204    | 99    | 303   |"
   ]
  },
  {
   "cell_type": "markdown",
   "id": "58ec06f7",
   "metadata": {},
   "source": [
    "*Expected frequency = row total * column total / grand total* "
   ]
  },
  {
   "cell_type": "code",
   "execution_count": null,
   "id": "3c7df8aa",
   "metadata": {},
   "outputs": [],
   "source": [
    "chi2, p_value, dof, expected = "
   ]
  },
  {
   "cell_type": "code",
   "execution_count": null,
   "id": "72299aa6",
   "metadata": {},
   "outputs": [],
   "source": [
    "expected"
   ]
  },
  {
   "cell_type": "code",
   "execution_count": null,
   "id": "dc1cdf04",
   "metadata": {},
   "outputs": [],
   "source": [
    "p_value"
   ]
  },
  {
   "cell_type": "markdown",
   "id": "bb3df2cc",
   "metadata": {},
   "source": [
    "Since the p-value is > 0.05 que can confidently accpet the null hypothesis that the proportion of patients who have exercise induced angina is independent of the age group"
   ]
  },
  {
   "cell_type": "markdown",
   "id": "d7b97dfb",
   "metadata": {},
   "source": [
    "---------\n",
    "---------\n",
    "\n",
    "**Question 2** : does the number of major vessels observed by fluorometry depend on the age group?\n",
    "\n",
    "Again, we should present the data in a cross tabulation "
   ]
  },
  {
   "cell_type": "code",
   "execution_count": null,
   "id": "4f12772b",
   "metadata": {},
   "outputs": [],
   "source": [
    "table2  = pd.crosstab(,)\n",
    "table2"
   ]
  },
  {
   "cell_type": "code",
   "execution_count": null,
   "id": "34002608",
   "metadata": {},
   "outputs": [],
   "source": [
    "chi2_2, p_value_2, dof_2, ex_2 = ss.chi2_contingency(, correction = )"
   ]
  },
  {
   "cell_type": "code",
   "execution_count": null,
   "id": "d127fa5e",
   "metadata": {},
   "outputs": [],
   "source": [
    "p_value_2"
   ]
  },
  {
   "cell_type": "markdown",
   "id": "00e42358",
   "metadata": {},
   "source": [
    "Since the p-value is < 0.05 we can confidently reject the null hypothesis and state that the number of major vessels observed by fluorometry does vary depending on the age group.\n",
    "\n",
    "We're left with the follow-up question of **which groups are significantly different?**\n",
    "\n",
    "\n",
    "\n",
    "\n",
    "As we did in part 1 of \"Statistical testing for data analysis\", we can proceed to do pairwise comparisons. However, we need to correct the p-values to control for experimentwise type I error.\n",
    "\n",
    "One way to do this is to run pair-wise Chi-square tests for the group combinations, and then correct the p-values,  as done with the following functions (adapted from Moran Neuhof's [Chi-square (and post-hoc) tests in Python](https://neuhofmo.github.io/chi-square-and-post-hoc-in-python/) ):"
   ]
  },
  {
   "cell_type": "code",
   "execution_count": null,
   "id": "2ea1f56e",
   "metadata": {},
   "outputs": [],
   "source": [
    "def run_chisq_on_combination(df, combinations_tuple):\n",
    "    \"\"\"Receives a dataframe and a combinations tuple and returns p-value after performing chisq test.\"\"\"\n",
    "    assert len(combinations_tuple) == 2, \"Combinations tuple is too long! Should be of size 2.\"\n",
    "    new_df = df[(df.index == combinations_tuple[0]) | (df.index == combinations_tuple[1])]\n",
    "    chi2, p, dof, ex = ss.chi2_contingency(new_df, correction=True)\n",
    "    return p\n",
    "\n",
    "def chisq_posthoc_corrected(df, correction_method='fdr_bh', alpha=0.05):\n",
    "    \"\"\"Receives a dataframe and performs chi2 post hoc tests.\n",
    "    Prints the p-values and corrected p-values (after FDR correction).\n",
    "    alpha: optional threshold for rejection (default: 0.05)\n",
    "    correction_method: method used for mutiple comparisons correction. (default: 'fdr_bh').\n",
    "    See statsmodels.sandbox.stats.multicomp.multipletests for elaboration.\"\"\"\n",
    "    # post-hoc test\n",
    "    all_combinations = list(combinations(df.index, 2))  # gathering all combinations for post-hoc chi2\n",
    "    print(\"Post-hoc chi2 tests results:\")\n",
    "    p_vals = [run_chisq_on_combination(df, comb) for comb in all_combinations]  # a list of all p-values\n",
    "    # the list is in the same order of all_combinations\n",
    "\n",
    "    # correction for multiple testing\n",
    "    reject_list, corrected_p_vals = multipletests(p_vals, method=correction_method, alpha=alpha)[:2]\n",
    "    for p_val, corr_p_val, reject, comb in zip(p_vals, corrected_p_vals, reject_list, all_combinations):\n",
    "        print(\"{}: p_value: {:5f}; corrected: {:5f}, reject H0: {}\".format(comb, p_val, corr_p_val, reject))"
   ]
  },
  {
   "cell_type": "code",
   "execution_count": null,
   "id": "03027364",
   "metadata": {},
   "outputs": [],
   "source": []
  },
  {
   "cell_type": "markdown",
   "id": "5c4b560d",
   "metadata": {},
   "source": [
    "<p><a name=\"cont\"></a></p>\n",
    "\n",
    "## 3. Continous vs continous variables\n"
   ]
  },
  {
   "cell_type": "markdown",
   "id": "3bb109c4",
   "metadata": {},
   "source": [
    "**Question 3** : is there a linear relationship between age and maximum heart rate?"
   ]
  },
  {
   "cell_type": "code",
   "execution_count": null,
   "id": "c41fcd50",
   "metadata": {},
   "outputs": [],
   "source": [
    "ax = sns.scatterplot(x = df[''], y = df[''])\n",
    "ax.set(xlabel = '', ylabel = '');"
   ]
  },
  {
   "cell_type": "markdown",
   "id": "4dc694a4",
   "metadata": {},
   "source": [
    "<p><a name=\"pear\"></a></p>\n",
    "\n",
    "## Pearson's correlation\n",
    "\n",
    "For evaluating if the correlation between two numerical or continuous variables is significant.\n",
    "It is calculated via a Least-Squares fit.\n",
    "\n",
    "-  1 = perfect positive relationship\n",
    "-  0 = absence of linear relationship\n",
    "- -1 = perfect negative relationship\n",
    "\n",
    "**Assumes two normally distributed continuos variables**\n",
    "\n",
    "    \n",
    "\n",
    "\n",
    "\n",
    "-   $H_0:$ There is not a linear relationship in the population\n",
    "-   $H_1:$ There is a linear relationship in the population"
   ]
  },
  {
   "cell_type": "code",
   "execution_count": null,
   "id": "84980568",
   "metadata": {},
   "outputs": [],
   "source": [
    "fig, ax = plt.subplots(1,2, figsize=(13,5))\n",
    "sns.histplot(df[''], bins = 10, kde = True,\n",
    "             color = 'purple', ax=ax[0])\n",
    "sns.histplot(df[''], bins = 10, kde = True,\n",
    "             color = 'green', ax=ax[1])"
   ]
  },
  {
   "cell_type": "code",
   "execution_count": null,
   "id": "f356c35c",
   "metadata": {},
   "outputs": [],
   "source": [
    "fig, ax = plt.subplots(1,2, figsize=(13,5))\n",
    "qqplot(df[''], line = , ax = ax[0]) \n",
    "qqplot(df[''], line = , ax = ax[1])\n",
    "fig.show()"
   ]
  },
  {
   "cell_type": "code",
   "execution_count": null,
   "id": "3f88d787",
   "metadata": {},
   "outputs": [],
   "source": [
    "ax = \n",
    "sns.regplot(, scatter = False, ci = 95, fit_reg = True, color = 'orange')\n",
    "ax.set(xlabel = 'Age', ylabel = 'Maximum heart rate');"
   ]
  },
  {
   "cell_type": "code",
   "execution_count": null,
   "id": "91603420",
   "metadata": {},
   "outputs": [],
   "source": [
    "R, p_value = \n",
    "print(f\"Pearson's correlation coefficient : {R:.3f}, p-value: {p_value:.5f}\")"
   ]
  },
  {
   "cell_type": "markdown",
   "id": "0ac25d4c",
   "metadata": {},
   "source": [
    "The p-value is so small that we reject the null hypothesis and assume that there is a negative relationship between the age of the patients and their maximum heart rate measurement"
   ]
  },
  {
   "cell_type": "markdown",
   "id": "be49e883",
   "metadata": {},
   "source": [
    "-------------------\n",
    "------------------- \n",
    "\n",
    "\n",
    "\n",
    "Let's look at an example that's not so well behaved\n",
    "\n",
    "**Question 4**: is there a linear relationship between the blood pressure and the oldpeak measurement of the patients?"
   ]
  },
  {
   "cell_type": "code",
   "execution_count": null,
   "id": "62e9a876",
   "metadata": {
    "scrolled": true
   },
   "outputs": [],
   "source": [
    "ax = sns.scatterplot(x = df[\"blood_pressure\"], y = df['oldpeak'])\n",
    "ax.set(xlabel = 'Blood pressure', ylabel = 'Oldpeak');"
   ]
  },
  {
   "cell_type": "code",
   "execution_count": null,
   "id": "6ce087fc",
   "metadata": {},
   "outputs": [],
   "source": [
    "fig, ax = plt.subplots(1,2, figsize=(13,5))\n",
    "sns.histplot(df['blood_pressure'], bins = 10, kde = True,\n",
    "             color = 'orange', ax=ax[0])\n",
    "sns.histplot(df['oldpeak'], bins = 10, kde = True,\n",
    "             color = 'lightblue', ax=ax[1])"
   ]
  },
  {
   "cell_type": "code",
   "execution_count": null,
   "id": "12f3fc59",
   "metadata": {},
   "outputs": [],
   "source": [
    "fig, ax = plt.subplots(1,2, figsize=(13,5))\n",
    "qqplot(df['blood_pressure'], line = 's', ax = ax[0]) #draw the standardized line with 's' in line argument\n",
    "qqplot(df['oldpeak'], line = 's', ax = ax[1])\n",
    "fig.show()"
   ]
  },
  {
   "cell_type": "markdown",
   "id": "dd1062b5",
   "metadata": {},
   "source": [
    "<p><a name=\"spear\"></a></p>\n",
    "\n",
    "## Spearman's correlation\n",
    "\n",
    "It is the rank-based equivalent of Pearson's correlation coefficient. It does not assume that the data is normally distributed, and it works well to describe non-linear relationships too ([learn more](https://en.wikipedia.org/wiki/Spearman%27s_rank_correlation_coefficient)).  Also, its use is not only restricted to continuous data but can also be used in analyses of ordinal variables. \n",
    "\n",
    "\n",
    "-   $H_0:$ The ranks of one variable do not covary with the ranks of the other variable\n",
    "-   $H_1:$ The ranks of one variable do covary with the ranks of the other variable"
   ]
  },
  {
   "cell_type": "code",
   "execution_count": null,
   "id": "15c41e2b",
   "metadata": {},
   "outputs": [],
   "source": [
    "ax = sns.regplot(x = df[\"blood_pressure\"], y = df['oldpeak'], scatter_kws={'s':8}, fit_reg = False)\n",
    "sns.regplot(x = df[\"blood_pressure\"], y = df['oldpeak'], scatter = False, ci = 95, fit_reg = True, color = 'orange',  \n",
    "            lowess = ) \n",
    "ax.set(xlabel = 'Blood pressure', ylabel = 'Oldpeak');"
   ]
  },
  {
   "cell_type": "markdown",
   "id": "91dec766",
   "metadata": {},
   "source": [
    "In the previous plot we set [lowess]( https://mike-langen.medium.com/creating-powerfull-lowess-graphs-in-python-e0ea7a30b17a#:~:text=LOWESS%20stands%20for%20LOcally%2DWeighted,restricting%20yourself%20to%20any%20form.) = True, which estimates a nonparametric lowess model (locally weighted linear regression)\n",
    "                                              "
   ]
  },
  {
   "cell_type": "code",
   "execution_count": null,
   "id": "5e2381fe",
   "metadata": {},
   "outputs": [],
   "source": [
    "Rs, p_value = \n",
    "print(f\"Spearman's correlation coefficient : {Rs:.3f}, p-value: {p_value:.5f}\")"
   ]
  },
  {
   "cell_type": "markdown",
   "id": "e4ebc121",
   "metadata": {},
   "source": [
    "The p-value is <0.05, so we reject the null hypothesis and assume that the oldpeak and the blood pressure of the patients covary. When one increases, the other one does so too."
   ]
  }
 ],
 "metadata": {
  "kernelspec": {
   "display_name": "Python 3",
   "language": "python",
   "name": "python3"
  },
  "language_info": {
   "codemirror_mode": {
    "name": "ipython",
    "version": 3
   },
   "file_extension": ".py",
   "mimetype": "text/x-python",
   "name": "python",
   "nbconvert_exporter": "python",
   "pygments_lexer": "ipython3",
   "version": "3.8.8"
  }
 },
 "nbformat": 4,
 "nbformat_minor": 5
}
