{
 "cells": [
  {
   "cell_type": "markdown",
   "id": "fd36f180",
   "metadata": {},
   "source": [
    "# Statistical testing for data analysis: a practical guide\n",
    "\n",
    "\n",
    "## 1. Categorical vs numerical variables\n",
    "\n",
    "\n"
   ]
  },
  {
   "cell_type": "markdown",
   "id": "7fd9830e",
   "metadata": {},
   "source": [
    "<p><a name=\"sections\"></a></p>\n",
    "\n",
    "\n",
    "# Sections\n",
    "\n",
    "- <a href=\"#goal\">Goal</a>\n",
    "- <a href=\"#two-sample\">Two-sample Student's T-test</a>\n",
    "  - <a href=\"#levene\">Levene’s test</a>\n",
    "- <a href=\"#welch\">Welch's t-test</a>\n",
    "- <a href=\"#one\">One-way ANOVA</a>\n",
    "- <a href=\"#post\">Post hoc tests</a>\n",
    "- <a href=\"#kruskal\">Kruskal-Wallis H test</a>\n",
    "- <a href=\"#stat\">Statistical Normality Tests</a>"
   ]
  },
  {
   "cell_type": "markdown",
   "id": "d90bd259",
   "metadata": {},
   "source": [
    "Import libraries"
   ]
  },
  {
   "cell_type": "code",
   "execution_count": null,
   "id": "47d7f6ff",
   "metadata": {},
   "outputs": [],
   "source": [
    "import numpy as np\n",
    "import pandas as pd\n",
    "import seaborn as sns\n",
    "import matplotlib.pyplot as plt\n",
    "#!pip install scikit-posthocs\n",
    "import scikit_posthocs as sp\n",
    "from statsmodels.graphics.gofplots import qqplot\n",
    "import scipy.stats as ss\n",
    "\n",
    "sns.set_theme(style = 'ticks')"
   ]
  },
  {
   "cell_type": "markdown",
   "id": "bafe7484",
   "metadata": {},
   "source": [
    "<p><a name=\"goal\"></a></p>\n",
    "\n",
    "## Goal\n",
    "#### Describe how the characteristics of each patient (e.g., age, sex, and cholesterol levels) affect the metrics of heart function.\n",
    "\n",
    "\n",
    "Luckily you have access to a Heart Database to do data analysis. Below we describe features included in such database:\n",
    "\n",
    "\n",
    "- age: Age of the patient\n",
    "\n",
    "- sex: Sex of the patient\n",
    "\n",
    "- ex_induced_angina: exercise-induced angina (1 = yes; 0 = no)\n",
    "\n",
    "- major_vessels: number of major vessels (0-3)\n",
    "\n",
    "- chestpain: Chest Pain type chest pain type\n",
    "        Value 1: typical angina\n",
    "        Value 2: atypical angina\n",
    "        Value 3: non-anginal pain\n",
    "        Value 4: asymptomatic\n",
    "- blood_pressure: resting blood pressure (in mm Hg)\n",
    "\n",
    "- cholesterol: cholesterol in mg/dl fetched via BMI sensor\n",
    "\n",
    "- blood_sugar: (fasting blood sugar > 120 mg/dl) (1 = true; 0 = false)\n",
    "\n",
    "- electrcg_results: resting electrocardiographic results\n",
    "        Value 0: normal\n",
    "        Value 1: having ST-T wave abnormality (T wave inversions and/or ST elevation or depression of > 0.05 mV)\n",
    "        Value 2: showing probable or definite left ventricular hypertrophy by Estes' criteria\n",
    "- max_heart_rate: maximum heart rate achieved\n",
    "- oldpeak: ST depression induced by exercise relative to rest\n",
    "\n",
    "- chance_heartattack:   0= less chance of heart attack 1= more chance of heart attack\n",
    "\n",
    "[Source](https://www.kaggle.com/rashikrahmanpritom/heart-attack-analysis-prediction-dataset)"
   ]
  },
  {
   "cell_type": "code",
   "execution_count": null,
   "id": "e9c71763",
   "metadata": {},
   "outputs": [],
   "source": [
    "df = pd.read_csv('https://nycdsaslides.s3.amazonaws.com/LLS/heart.csv',\n",
    "                 names = ['age','sex','chestpain', 'blood_pressure',\\\n",
    "                          'cholesterol','blood_sugar','electrcg_results',\\\n",
    "                          'max_heart_rate','ex_induced_angina','oldpeak',\\\n",
    "                          'slp','major_vessels','thall','chance_heartattack'], header = 0)"
   ]
  },
  {
   "cell_type": "code",
   "execution_count": null,
   "id": "dad99f5b",
   "metadata": {},
   "outputs": [],
   "source": []
  },
  {
   "cell_type": "markdown",
   "id": "2c24dc32",
   "metadata": {},
   "source": [
    "**Question 1** : how does age affect the metrics of heart function?\n",
    "\n",
    "Based on medical evidence, the likelihood of having a heart attack increases after age 45. So let's make a new categorical feature to account for two age groups:"
   ]
  },
  {
   "cell_type": "code",
   "execution_count": null,
   "id": "d20c6d3d",
   "metadata": {},
   "outputs": [],
   "source": [
    "df.loc"
   ]
  },
  {
   "cell_type": "code",
   "execution_count": null,
   "id": "712464d1",
   "metadata": {},
   "outputs": [],
   "source": []
  },
  {
   "cell_type": "markdown",
   "id": "bcb8e3f6",
   "metadata": {},
   "source": [
    "- Plot the Maximum heart rate for the different age groups:"
   ]
  },
  {
   "cell_type": "code",
   "execution_count": null,
   "id": "cf4ed940",
   "metadata": {},
   "outputs": [],
   "source": [
    "ax = sns.boxplot(x = df[''], y = df[''])\n",
    "ax.set(xlabel = '', ylabel = '');"
   ]
  },
  {
   "cell_type": "markdown",
   "id": "b6c64480",
   "metadata": {},
   "source": [
    "<p><a name=\"two-sample\"></a></p>\n",
    "\n",
    "From this plot, we can infer that the Maximum Heart rate differs between age groups.\n",
    "We need to test this hypothesis with statistics!\n",
    "\n",
    "\n",
    "In this simple case, we would use a \n",
    "\n",
    "## Two-sample Student's T-test\n",
    "\n",
    "-   $H_0:$ No Maximum Heart rate population mean difference between age groups\n",
    "-   $H_1:$ Maximum Heart rate population means between age groups differ\n",
    "\n",
    "\n",
    "Before jumping right into the test, we need to check if our data meets this test's [assumptions](https://en.wikipedia.org/wiki/Student%27s_t-test#Assumptions):\n",
    "\n",
    "1. Independence of the observations. This is a study design issue, you should make sure that the observations do not depend on each other. \n",
    "\n",
    "2. Normal distribution. We want to look at the distribution of the numerical variable and make sure that it is close to normal\n"
   ]
  },
  {
   "cell_type": "code",
   "execution_count": null,
   "id": "75229f4d",
   "metadata": {
    "scrolled": true
   },
   "outputs": [],
   "source": [
    "ax = sns.histplot(,\n",
    "                  bins = 10,\n",
    "                  kde = True,\n",
    "                  color = 'purple')\n",
    "ax.set(xlabel = '', ylabel = 'Frequency');\n",
    "\n",
    "# This plot shows that the Max heart rate is sligthtly left-skewed, but still follows a fairly normal distribution"
   ]
  },
  {
   "cell_type": "markdown",
   "id": "d671e2e7",
   "metadata": {},
   "source": [
    "A way for visualizing if the distribution is normal is the quantile-quantile plot (Q-Q plot)"
   ]
  },
  {
   "cell_type": "code",
   "execution_count": null,
   "id": "bcf67264",
   "metadata": {},
   "outputs": [],
   "source": [
    "plot =  #draw the standardized line with 's' in line argument\n",
    "plot.show()"
   ]
  },
  {
   "cell_type": "markdown",
   "id": "4e7fdc45",
   "metadata": {},
   "source": [
    "3. Equality of variances. We need to test whether the variances for the two categories are equal"
   ]
  },
  {
   "cell_type": "code",
   "execution_count": null,
   "id": "97afd609",
   "metadata": {},
   "outputs": [],
   "source": [
    "ax = sns.FacetGrid(df, hue='age_group', palette='coolwarm',height = 6, aspect = 2)\n",
    "ax.map(plt.hist,'max_heart_rate', bins=10, alpha=0.7, density = True)\n",
    "ax.set(xlabel = 'Maximum heart rate', ylabel = 'Density')\n",
    "ax.add_legend(title = 'Age group');"
   ]
  },
  {
   "cell_type": "markdown",
   "id": "ed700c10",
   "metadata": {},
   "source": [
    "<p><a name=\"levene\"></a></p>\n",
    "\n",
    "### Levene’s test\n",
    "\n",
    "Test for equality of variances\n",
    "\n",
    "-   $H_0:$ Variances are equal\n",
    "-   $H_1:$ At least one of the variances differ\n",
    "\n",
    "\n",
    "The three variations of Levene’s test are:\n",
    "\n",
    "‘median’: Recommended for skewed distributions\n",
    "\n",
    "‘mean’: Recommended for symmetric, moderate-tailed distributions.\n",
    "\n",
    "‘trimmed’: Recommended for heavy-tailed distributions."
   ]
  },
  {
   "cell_type": "code",
   "execution_count": null,
   "id": "5224acb8",
   "metadata": {
    "scrolled": true
   },
   "outputs": [],
   "source": [
    "ss.levene(,\n",
    "          , center = )\n"
   ]
  },
  {
   "cell_type": "markdown",
   "id": "dcdb7448",
   "metadata": {},
   "source": [
    "Finally, we can appropriately apply the T-test"
   ]
  },
  {
   "cell_type": "code",
   "execution_count": null,
   "id": "cc9bcfd8",
   "metadata": {},
   "outputs": [],
   "source": [
    "ss.ttest_ind(,\n",
    "             , equal_var = )"
   ]
  },
  {
   "cell_type": "markdown",
   "id": "7c011ef3",
   "metadata": {},
   "source": [
    "Since the p-value is so small, we can confidently reject the null hypothesis"
   ]
  },
  {
   "cell_type": "markdown",
   "id": "d6d56b08",
   "metadata": {},
   "source": [
    "-------------------\n",
    "------------------- \n",
    "\n",
    "\n",
    "\n",
    "Let's look at an example that's not so well behaved\n",
    "\n",
    "**Question 2**: how the sex influences the cholesterol levels in the patient?"
   ]
  },
  {
   "cell_type": "code",
   "execution_count": null,
   "id": "68673da9",
   "metadata": {},
   "outputs": [],
   "source": [
    "ax = sns.histplot(,\n",
    "                  bins = 10,\n",
    "                  kde = True,\n",
    "                  color = 'purple')\n",
    "ax.set(xlabel = ' [mg/dl]', ylabel = 'Frequency');"
   ]
  },
  {
   "cell_type": "code",
   "execution_count": null,
   "id": "642116da",
   "metadata": {},
   "outputs": [],
   "source": [
    "plot = qqplot(df['cholesterol'], line = 's') #draw the standardized line with 's' in line argument\n",
    "plot.show()"
   ]
  },
  {
   "cell_type": "markdown",
   "id": "0238fd2a",
   "metadata": {},
   "source": [
    "The QQ plot confirms the observation we made that the data is skewed, in particular at the top of the plot. However, this should not be an issue as you'll see below."
   ]
  },
  {
   "cell_type": "markdown",
   "id": "1768c889",
   "metadata": {},
   "source": [
    "- Plot cholesterol concentration for the different sexes:"
   ]
  },
  {
   "cell_type": "code",
   "execution_count": null,
   "id": "318bf5b0",
   "metadata": {},
   "outputs": [],
   "source": [
    "ax = sns.violinplot(x = , y =)\n",
    "ax.set(xlabel = '', ylabel = '');"
   ]
  },
  {
   "cell_type": "code",
   "execution_count": null,
   "id": "04b9b89f",
   "metadata": {},
   "outputs": [],
   "source": [
    "ss.levene(df.loc[df['sex'] == 0, 'cholesterol'],\n",
    "          df.loc[df['sex'] == 1, 'cholesterol'], center ='') "
   ]
  },
  {
   "cell_type": "markdown",
   "id": "25f0a020",
   "metadata": {},
   "source": [
    "<p><a name=\"welch\"></a></p>\n",
    "\n",
    "What do you do if the variances are not equal?\n",
    "\n",
    "## Welch's t-test\n",
    "\n",
    "Also known as unequal variances T-test\n",
    "\n",
    "-   $H_0:$ Cholesterol population means are equal between sexes\n",
    "-   $H_1:$ Cholesterol population means differ between sexes \n",
    "\n",
    "Although it follows the normality assumption, Welch's t-test remains robust for skewed distributions and large sample sizes (click [here](https://www.ncbi.nlm.nih.gov/pmc/articles/PMC3445820/) for further reading)"
   ]
  },
  {
   "cell_type": "code",
   "execution_count": null,
   "id": "585e4268",
   "metadata": {
    "scrolled": true
   },
   "outputs": [],
   "source": [
    "ss.ttest_ind(df.loc[df['sex'] == 0, 'cholesterol'],\n",
    "             df.loc[df['sex'] == 1, 'cholesterol'], equal_var = )"
   ]
  },
  {
   "cell_type": "markdown",
   "id": "f536cd32",
   "metadata": {},
   "source": [
    "Since the p-value is so small, we can confidently reject the null hypothesis"
   ]
  },
  {
   "cell_type": "markdown",
   "id": "cbb97fcd",
   "metadata": {},
   "source": [
    "<p><a name=\"one\"></a></p>\n",
    "\n",
    "**Question 3**: how the electrocardiogram results influence the maximum heart rate in the patients?\n",
    "\n",
    "There are 3 categories of electrocardiogram results: normal(0), abnormal(1), and hypertrophy(2)\n",
    "\n",
    "\n",
    "## Comparing more than two categories\n",
    "\n",
    "**One-way ANOVA** is a standard test useful to determine whether there are statistically significant differences between the means of three or more categories.\n",
    "\n",
    "Why not make a few t-tests instead? Every time we use a t-test, there's a chance that we are rejecting the null hypothesis when it is true (type I error). Usually, this is a 5% probability. So if we \"stack\" three t-tests, our type I error probability would go up to 15%, which is unacceptable.  \n",
    "\n",
    "\n",
    "## One-way ANOVA\n",
    "\n",
    "\n",
    "\n",
    "- $H_0:$ There is no difference in population means across the categories.\n",
    "\n",
    "- $H_1:$ At least one of the means is not the same.\n",
    "\n"
   ]
  },
  {
   "cell_type": "code",
   "execution_count": null,
   "id": "4fa4a6ed",
   "metadata": {},
   "outputs": [],
   "source": [
    "ax = sns.boxplot(x = df[\"electrcg_results\"], y = df['max_heart_rate'])\n",
    "ax.set(xlabel = 'Electrocardiogram results', ylabel = 'Maximum Heart Rate');"
   ]
  },
  {
   "cell_type": "markdown",
   "id": "faa2393a",
   "metadata": {},
   "source": [
    "Test for variances equality"
   ]
  },
  {
   "cell_type": "code",
   "execution_count": null,
   "id": "130b7606",
   "metadata": {},
   "outputs": [],
   "source": [
    "normal = df.loc[df['electrcg_results'] == 0, 'max_heart_rate']\n",
    "abnormal = df.loc[df['electrcg_results'] == 1, 'max_heart_rate']\n",
    "hypertrophy = df.loc[df['electrcg_results'] == 2, 'max_heart_rate']\n",
    "        \n",
    "ss.levene(, , , center='mean')\n"
   ]
  },
  {
   "cell_type": "code",
   "execution_count": null,
   "id": "b3874124",
   "metadata": {},
   "outputs": [],
   "source": [
    "f_statistic, p_value = ss.f_oneway(, , )\n",
    "\n",
    "print(f\"F_Statistic: {f_statistic:.4f}, P-Value: {p_value:.4f}\")"
   ]
  },
  {
   "cell_type": "markdown",
   "id": "6a5a4c80",
   "metadata": {},
   "source": [
    "<p><a name=\"post\"></a></p>\n",
    "\n",
    "Since the p-value is smaller than 0.05 we can reject the null hypothesis and state that there's significant evidence that at least one of the means differ.\n",
    "\n",
    "But which one? Post hoc (*a posteriori*) tests can confirm where the differences occurred between groups.\n",
    "\n",
    "## Post hoc tests\n",
    "\n",
    "When we reject the null hypothesis with a one-way ANOVA, we can run Post hoc tests. Similar to using one-way ANOVA instead of multiple t-tests, post hoc tests attempt to control for the additive experimentwise type I error.\n",
    "\n",
    "There are more than a docen post hoc tests, to learn more about them you can start [here](https://www.statisticshowto.com/probability-and-statistics/statistics-definitions/post-hoc/)"
   ]
  },
  {
   "cell_type": "code",
   "execution_count": null,
   "id": "6f7a3edf",
   "metadata": {},
   "outputs": [],
   "source": [
    "p_values = sp.posthoc_ttest(df, val_col = '', group_col = '', p_adjust='holm')\n",
    "p_values"
   ]
  },
  {
   "cell_type": "code",
   "execution_count": null,
   "id": "92b34645",
   "metadata": {},
   "outputs": [],
   "source": [
    "def posthoc_vis(p_valuesDF, p_value_threshold):\n",
    "    # Make a mask to only show the lower left part of the table\n",
    "    mask = np.triu(np.ones_like(p_valuesDF, dtype=bool))\n",
    "\n",
    "    cmap = sns.diverging_palette(220, 20, as_cmap=True)\n",
    "\n",
    "    # Draw the heatmap with the mask and correct aspect ratio\n",
    "    vis = sns.heatmap(p_valuesDF, mask=mask, cmap = cmap, center = p_value_threshold,\n",
    "                square=True, linewidths=.5, annot=True);\n",
    "\n",
    "    return vis"
   ]
  },
  {
   "cell_type": "code",
   "execution_count": null,
   "id": "cec05a46",
   "metadata": {},
   "outputs": [],
   "source": [
    "posthoc_vis(,);"
   ]
  },
  {
   "cell_type": "markdown",
   "id": "859f774f",
   "metadata": {},
   "source": [
    "-------------------\n",
    "------------------- \n",
    "\n",
    "\n",
    "\n",
    "Again, let's look at an example that's not so well behaved\n",
    "\n",
    "**Question 4**: how the kind of chest pain relates to the oldpeak measurement (ST depression induced by exercise) in the patient?\n",
    "\n",
    "There are 4 kinds of chest pain classifications: typical_angina (0), atypical_angina(1), non_anginal(2), and asymptomatic(3)"
   ]
  },
  {
   "cell_type": "code",
   "execution_count": null,
   "id": "a90ea522",
   "metadata": {},
   "outputs": [],
   "source": [
    "ax = sns.histplot(df['oldpeak'],\n",
    "                  bins = 10,\n",
    "                  kde = True,\n",
    "                  color = 'purple')\n",
    "ax.set(xlabel = 'Oldpeak', ylabel = 'Frequency');"
   ]
  },
  {
   "cell_type": "code",
   "execution_count": null,
   "id": "4297c25d",
   "metadata": {},
   "outputs": [],
   "source": [
    "plot = qqplot(df['oldpeak'], line = 's') #draw the standardized line with 's' in line argument\n",
    "plot.show()"
   ]
  },
  {
   "cell_type": "code",
   "execution_count": null,
   "id": "8ae87248",
   "metadata": {},
   "outputs": [],
   "source": [
    "ax = sns.boxplot(x = df[\"chestpain\"], y = df['oldpeak'])\n",
    "ax.set(xlabel = 'Chest Pain', ylabel = 'Oldpeak');"
   ]
  },
  {
   "cell_type": "code",
   "execution_count": null,
   "id": "95df6483",
   "metadata": {},
   "outputs": [],
   "source": [
    "typical_angina = df.loc[df['chestpain'] == 0, 'oldpeak']\n",
    "atypical_angina = df.loc[df['chestpain'] == 1, 'oldpeak']\n",
    "non_anginal = df.loc[df['chestpain'] == 2, 'oldpeak']\n",
    "asymptomatic = df.loc[df['chestpain'] == 3, 'oldpeak']\n",
    "\n",
    "ss.levene(typical_angina, atypical_angina, non_anginal, asymptomatic, center='trimmed')\n",
    "# since the p-value is smaller than 0.05 we can reject the null hypothesis and state that at least one \n",
    "# variance differs "
   ]
  },
  {
   "cell_type": "markdown",
   "id": "00c74213",
   "metadata": {},
   "source": [
    "<p><a name=\"kruskal\"></a></p>\n",
    "\n",
    "If normality and other assumptions are violated use **non-parametric tests**\n",
    "\n",
    "\n",
    "## Kruskal-Wallis H test\n",
    "\n",
    "The [Kruskal-Wallis H test](https://en.wikipedia.org/wiki/Kruskal%E2%80%93Wallis_one-way_analysis_of_variance) is the one-way non-parametric ANOVA to test if samples came from the same distribution.\n",
    "\n",
    "- $H_0:$ Population medians are equal.\n",
    "\n",
    "- $H_1:$ At least one of the population medians is not equal."
   ]
  },
  {
   "cell_type": "code",
   "execution_count": null,
   "id": "1c03fcd1",
   "metadata": {},
   "outputs": [],
   "source": [
    "H, p_val = ss.kruskal(typical_angina, atypical_angina, non_anginal, asymptomatic)\n",
    "p_val"
   ]
  },
  {
   "cell_type": "code",
   "execution_count": null,
   "id": "faacc547",
   "metadata": {},
   "outputs": [],
   "source": [
    "p_valuesKW = sp.posthoc_dunn(df, val_col='oldpeak', group_col='chestpain', p_adjust='holm')\n",
    "p_valuesKW"
   ]
  },
  {
   "cell_type": "code",
   "execution_count": null,
   "id": "caf9dc29",
   "metadata": {},
   "outputs": [],
   "source": [
    "posthoc_vis(p_valuesKW, 0.05);"
   ]
  },
  {
   "cell_type": "markdown",
   "id": "5506eec7",
   "metadata": {},
   "source": [
    "<p><a name=\"stat\"></a></p>\n",
    "\n",
    "## Statistical Normality Tests\n",
    "\n",
    "Formally test whether a sample differs from a normal distribution\n",
    "\n",
    "-   $H_0:$ the sample comes from a normal distribution\n",
    "-   $H_1:$ the sample distribution differs from normal\n",
    "\n",
    "\n",
    "Again, there are many algorithms to test for normality, we will review the following:\n",
    "\n",
    "1) [Shapiro-Wilk](https://docs.scipy.org/doc/scipy/reference/generated/scipy.stats.shapiro.html#scipy.stats.shapiro) test: smaller datasets (thousands or less)\n",
    "\n",
    "2) [D’Agostino and Pearson’s](https://docs.scipy.org/doc/scipy/reference/generated/scipy.stats.normaltest.html#scipy.stats.normaltest) test: moderate and large sample size\n"
   ]
  },
  {
   "cell_type": "code",
   "execution_count": null,
   "id": "65bf2724",
   "metadata": {},
   "outputs": [],
   "source": [
    "shapiro_test = ss.shapiro(df['oldpeak'])\n",
    "shapiro_test"
   ]
  },
  {
   "cell_type": "code",
   "execution_count": null,
   "id": "89396751",
   "metadata": {},
   "outputs": [],
   "source": [
    "#This D’Agostino and Pearson’s test combines skew and kurtosis to produce an omnibus test of normality.\n",
    "\n",
    "dagostino_test = ss.normaltest(df['oldpeak'])\n",
    "dagostino_test"
   ]
  }
 ],
 "metadata": {
  "kernelspec": {
   "display_name": "Python 3",
   "language": "python",
   "name": "python3"
  },
  "language_info": {
   "codemirror_mode": {
    "name": "ipython",
    "version": 3
   },
   "file_extension": ".py",
   "mimetype": "text/x-python",
   "name": "python",
   "nbconvert_exporter": "python",
   "pygments_lexer": "ipython3",
   "version": "3.8.8"
  }
 },
 "nbformat": 4,
 "nbformat_minor": 5
}
